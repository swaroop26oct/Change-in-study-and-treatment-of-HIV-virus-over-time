{
 "cells": [
  {
   "cell_type": "code",
   "execution_count": 1,
   "metadata": {},
   "outputs": [
    {
     "name": "stderr",
     "output_type": "stream",
     "text": [
      "C:\\Users\\Varma\\Anaconda3\\lib\\site-packages\\gensim\\utils.py:860: UserWarning: detected Windows; aliasing chunkize to chunkize_serial\n",
      "  warnings.warn(\"detected Windows; aliasing chunkize to chunkize_serial\")\n"
     ]
    }
   ],
   "source": [
    "from gensim import corpora, models, similarities\n",
    "dictionary = corpora.Dictionary.load('mytest1.dict')\n",
    "corpus = corpora.MmCorpus('MyDict.mm')\n",
    "\n",
    "model = models.LdaModel(corpus, id2word=dictionary, num_topics=50,passes=3)\n",
    "model.save('lda.model')"
   ]
  },
  {
   "cell_type": "code",
   "execution_count": 2,
   "metadata": {
    "scrolled": true
   },
   "outputs": [
    {
     "name": "stdout",
     "output_type": "stream",
     "text": [
      "[(39, '0.026*\"sequences\" + 0.026*\"region\" + 0.024*\"sequence\" + 0.020*\"env\" + 0.019*\"amino\" + 0.016*\"two\" + 0.015*\"isolates\" + 0.015*\"acid\" + 0.015*\"nucleotide\" + 0.014*\"hiv-1\"'), (31, '0.039*\"htlv-i\" + 0.022*\"western\" + 0.022*\"positive\" + 0.019*\"hiv\" + 0.017*\"brain\" + 0.016*\"nervous\" + 0.015*\"blot\" + 0.014*\"system\" + 0.013*\"central\" + 0.009*\"enzyme-linked\"'), (29, '0.026*\"hiv\" + 0.017*\"may\" + 0.011*\"studies\" + 0.009*\"new\" + 0.008*\"also\" + 0.008*\"disease\" + 0.008*\"infection\" + 0.007*\"important\" + 0.007*\"use\" + 0.007*\"clinical\"'), (40, '0.023*\"data\" + 0.021*\"model\" + 0.017*\"used\" + 0.015*\"codes\" + 0.015*\"using\" + 0.015*\"ta-aids\" + 0.011*\"method\" + 0.009*\"methods\" + 0.009*\"based\" + 0.009*\"time\"'), (23, '0.026*\"structure\" + 0.019*\"peptide\" + 0.018*\"protease\" + 0.017*\"structural\" + 0.011*\"two\" + 0.010*\"residues\" + 0.010*\"chains\" + 0.009*\"binding\" + 0.009*\"et\" + 0.009*\"protein\"'), (17, '0.069*\"syndrome\" + 0.068*\"acquired\" + 0.052*\"immunodeficiency\" + 0.044*\"patients\" + 0.027*\"(aids)\" + 0.026*\"aids\" + 0.024*\"virus\" + 0.023*\"human\" + 0.019*\"immune\" + 0.018*\"deficiency\"'), (15, '0.060*\"hiv\" + 0.037*\"risk\" + 0.025*\"infection\" + 0.025*\"among\" + 0.024*\"per\" + 0.019*\"prevalence\" + 0.012*\"cent\" + 0.012*\"rate\" + 0.012*\"study\" + 0.010*\"high\"'), (16, '0.021*\"virus\" + 0.021*\"viral\" + 0.020*\"hiv-1\" + 0.020*\"gene\" + 0.019*\"proteins\" + 0.014*\"protein\" + 0.014*\"human\" + 0.013*\"gag\" + 0.013*\"env\" + 0.010*\"type\"'), (14, '0.038*\"heavy\" + 0.033*\"chain\" + 0.025*\"gene\" + 0.024*\"disease\" + 0.024*\"immunoglobulin\" + 0.017*\"internal\" + 0.016*\"ebv\" + 0.015*\"blv\" + 0.013*\"lymphoma\" + 0.012*\"variable\"'), (25, '0.081*\"patients\" + 0.020*\"2\" + 0.019*\"months\" + 0.019*\"3\" + 0.016*\"4\" + 0.016*\"one\" + 0.014*\"1\" + 0.013*\"three\" + 0.013*\"5\" + 0.012*\"two\"'), (36, '0.036*\"igd\" + 0.034*\"chicks\" + 0.029*\"enlargement\" + 0.026*\"nitrite\" + 0.023*\"inhalant\" + 0.016*\"organic\" + 0.015*\"left\" + 0.014*\"thrombotic\" + 0.013*\"functions\" + 0.012*\"diets\"'), (19, '0.041*\"bone\" + 0.036*\"marrow\" + 0.021*\"monkeys\" + 0.021*\"nef\" + 0.019*\"siv\" + 0.018*\"leukemia\" + 0.017*\"primate\" + 0.016*\"rhesus\" + 0.016*\"macaques\" + 0.015*\"animal\"'), (10, '0.025*\"1983.\" + 0.024*\"cmv\" + 0.021*\"htlv-ii\" + 0.018*\"serological\" + 0.017*\"cytomegalovirus\" + 0.016*\"positive.\" + 0.014*\"syphilis\" + 0.013*\"toxoplasmosis,\" + 0.013*\"positive\" + 0.013*\"95%\"'), (41, '0.024*\"assay\" + 0.024*\"samples\" + 0.019*\"detection\" + 0.018*\"hiv-1\" + 0.017*\"dna\" + 0.017*\"using\" + 0.013*\"used\" + 0.012*\"reaction\" + 0.012*\"blood\" + 0.011*\"detected\"'), (30, '0.046*\"japanese\" + 0.038*\"candida\" + 0.037*\"endemic\" + 0.027*\"isolates\" + 0.023*\"lav/htlv-iii\" + 0.020*\"reactivities\" + 0.020*\"isolated\" + 0.019*\"(median,\" + 0.018*\"c.\" + 0.017*\"american\"'), (44, '0.123*\"blood\" + 0.069*\"donors\" + 0.031*\"transfusion\" + 0.023*\"(1)\" + 0.021*\"donor\" + 0.016*\"(2)\" + 0.016*\"3.\" + 0.014*\"4.\" + 0.014*\"(3)\" + 0.010*\"(4)\"'), (38, '0.060*\"drug\" + 0.014*\"intravenous\" + 0.013*\"users\" + 0.013*\"aids\" + 0.012*\"use\" + 0.010*\"hiv\" + 0.009*\"study\" + 0.009*\"social\" + 0.008*\"homosexuality,\" + 0.008*\"abuse\"')]\n"
     ]
    }
   ],
   "source": [
    "print(model.print_topics(num_topics=17, num_words=10))"
   ]
  },
  {
   "cell_type": "code",
   "execution_count": null,
   "metadata": {
    "collapsed": true
   },
   "outputs": [],
   "source": []
  }
 ],
 "metadata": {
  "kernelspec": {
   "display_name": "Python 3",
   "language": "python",
   "name": "python3"
  },
  "language_info": {
   "codemirror_mode": {
    "name": "ipython",
    "version": 3
   },
   "file_extension": ".py",
   "mimetype": "text/x-python",
   "name": "python",
   "nbconvert_exporter": "python",
   "pygments_lexer": "ipython3",
   "version": "3.6.3"
  }
 },
 "nbformat": 4,
 "nbformat_minor": 2
}
