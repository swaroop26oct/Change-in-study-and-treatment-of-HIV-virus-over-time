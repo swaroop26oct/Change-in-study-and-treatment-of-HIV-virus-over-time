{
 "cells": [
  {
   "cell_type": "code",
   "execution_count": 1,
   "metadata": {},
   "outputs": [
    {
     "name": "stderr",
     "output_type": "stream",
     "text": [
      "C:\\Users\\Varma\\Anaconda3\\lib\\site-packages\\gensim\\utils.py:860: UserWarning: detected Windows; aliasing chunkize to chunkize_serial\n",
      "  warnings.warn(\"detected Windows; aliasing chunkize to chunkize_serial\")\n"
     ]
    }
   ],
   "source": [
    "from gensim import corpora,models,similarities\n",
    "import pyLDAvis.gensim\n",
    "dictionary = corpora.Dictionary.load('mytest1.dict')\n",
    "corpus = corpora.MmCorpus('MyDict.mm')"
   ]
  },
  {
   "cell_type": "code",
   "execution_count": 2,
   "metadata": {
    "collapsed": true
   },
   "outputs": [],
   "source": [
    "model=models.LdaModel.load('lda.model')"
   ]
  },
  {
   "cell_type": "code",
   "execution_count": 3,
   "metadata": {},
   "outputs": [
    {
     "data": {
      "text/plain": [
       "[(39,\n",
       "  '0.026*\"sequences\" + 0.026*\"region\" + 0.024*\"sequence\" + 0.020*\"env\" + 0.019*\"amino\" + 0.016*\"two\" + 0.015*\"isolates\" + 0.015*\"acid\" + 0.015*\"nucleotide\" + 0.014*\"hiv-1\"'),\n",
       " (31,\n",
       "  '0.039*\"htlv-i\" + 0.022*\"western\" + 0.022*\"positive\" + 0.019*\"hiv\" + 0.017*\"brain\" + 0.016*\"nervous\" + 0.015*\"blot\" + 0.014*\"system\" + 0.013*\"central\" + 0.009*\"enzyme-linked\"'),\n",
       " (29,\n",
       "  '0.026*\"hiv\" + 0.017*\"may\" + 0.011*\"studies\" + 0.009*\"new\" + 0.008*\"also\" + 0.008*\"disease\" + 0.008*\"infection\" + 0.007*\"important\" + 0.007*\"use\" + 0.007*\"clinical\"'),\n",
       " (40,\n",
       "  '0.023*\"data\" + 0.021*\"model\" + 0.017*\"used\" + 0.015*\"codes\" + 0.015*\"using\" + 0.015*\"ta-aids\" + 0.011*\"method\" + 0.009*\"methods\" + 0.009*\"based\" + 0.009*\"time\"'),\n",
       " (23,\n",
       "  '0.026*\"structure\" + 0.019*\"peptide\" + 0.018*\"protease\" + 0.017*\"structural\" + 0.011*\"two\" + 0.010*\"residues\" + 0.010*\"chains\" + 0.009*\"binding\" + 0.009*\"et\" + 0.009*\"protein\"'),\n",
       " (10,\n",
       "  '0.025*\"1983.\" + 0.024*\"cmv\" + 0.021*\"htlv-ii\" + 0.018*\"serological\" + 0.017*\"cytomegalovirus\" + 0.016*\"positive.\" + 0.014*\"syphilis\" + 0.013*\"toxoplasmosis,\" + 0.013*\"positive\" + 0.013*\"95%\"'),\n",
       " (41,\n",
       "  '0.024*\"assay\" + 0.024*\"samples\" + 0.019*\"detection\" + 0.018*\"hiv-1\" + 0.017*\"dna\" + 0.017*\"using\" + 0.013*\"used\" + 0.012*\"reaction\" + 0.012*\"blood\" + 0.011*\"detected\"'),\n",
       " (30,\n",
       "  '0.046*\"japanese\" + 0.038*\"candida\" + 0.037*\"endemic\" + 0.027*\"isolates\" + 0.023*\"lav/htlv-iii\" + 0.020*\"reactivities\" + 0.020*\"isolated\" + 0.019*\"(median,\" + 0.018*\"c.\" + 0.017*\"american\"'),\n",
       " (44,\n",
       "  '0.123*\"blood\" + 0.069*\"donors\" + 0.031*\"transfusion\" + 0.023*\"(1)\" + 0.021*\"donor\" + 0.016*\"(2)\" + 0.016*\"3.\" + 0.014*\"4.\" + 0.014*\"(3)\" + 0.010*\"(4)\"'),\n",
       " (38,\n",
       "  '0.060*\"drug\" + 0.014*\"intravenous\" + 0.013*\"users\" + 0.013*\"aids\" + 0.012*\"use\" + 0.010*\"hiv\" + 0.009*\"study\" + 0.009*\"social\" + 0.008*\"homosexuality,\" + 0.008*\"abuse\"')]"
      ]
     },
     "execution_count": 3,
     "metadata": {},
     "output_type": "execute_result"
    }
   ],
   "source": [
    "model.show_topics()"
   ]
  },
  {
   "cell_type": "code",
   "execution_count": 4,
   "metadata": {
    "scrolled": true
   },
   "outputs": [
    {
     "name": "stderr",
     "output_type": "stream",
     "text": [
      "C:\\Users\\Varma\\Anaconda3\\lib\\site-packages\\pyLDAvis\\_prepare.py:387: DeprecationWarning: \n",
      ".ix is deprecated. Please use\n",
      ".loc for label based indexing or\n",
      ".iloc for positional indexing\n",
      "\n",
      "See the documentation here:\n",
      "http://pandas.pydata.org/pandas-docs/stable/indexing.html#ix-indexer-is-deprecated\n",
      "  topic_term_dists = topic_term_dists.ix[topic_order]\n"
     ]
    }
   ],
   "source": [
    "vis_data=pyLDAvis.gensim.prepare(model,corpus,dictionary)"
   ]
  },
  {
   "cell_type": "code",
   "execution_count": null,
   "metadata": {},
   "outputs": [
    {
     "name": "stdout",
     "output_type": "stream",
     "text": [
      "\n",
      "Note: if you're in the IPython notebook, pyLDAvis.show() is not the best command\n",
      "      to use. Consider using pyLDAvis.display(), or pyLDAvis.enable_notebook().\n",
      "      See more information at http://pyLDAvis.github.io/quickstart.html .\n",
      "\n",
      "You must interrupt the kernel to end this command\n",
      "\n",
      "Serving to http://127.0.0.1:8889/    [Ctrl-C to exit]\n"
     ]
    },
    {
     "name": "stderr",
     "output_type": "stream",
     "text": [
      "127.0.0.1 - - [04/Dec/2017 18:24:20] \"GET / HTTP/1.1\" 200 -\n",
      "127.0.0.1 - - [04/Dec/2017 18:24:26] \"GET /LDAvis.css HTTP/1.1\" 200 -\n",
      "127.0.0.1 - - [04/Dec/2017 18:24:29] \"GET /d3.js HTTP/1.1\" 200 -\n",
      "127.0.0.1 - - [04/Dec/2017 18:24:29] \"GET /LDAvis.js HTTP/1.1\" 200 -\n",
      "127.0.0.1 - - [04/Dec/2017 18:24:29] code 404, message Not Found\n",
      "127.0.0.1 - - [04/Dec/2017 18:24:29] \"GET /favicon.ico HTTP/1.1\" 404 -\n"
     ]
    }
   ],
   "source": [
    "pyLDAvis.show(vis_data)"
   ]
  },
  {
   "cell_type": "code",
   "execution_count": null,
   "metadata": {
    "collapsed": true
   },
   "outputs": [],
   "source": []
  }
 ],
 "metadata": {
  "kernelspec": {
   "display_name": "Python 3",
   "language": "python",
   "name": "python3"
  },
  "language_info": {
   "codemirror_mode": {
    "name": "ipython",
    "version": 3
   },
   "file_extension": ".py",
   "mimetype": "text/x-python",
   "name": "python",
   "nbconvert_exporter": "python",
   "pygments_lexer": "ipython3",
   "version": "3.6.3"
  }
 },
 "nbformat": 4,
 "nbformat_minor": 2
}
