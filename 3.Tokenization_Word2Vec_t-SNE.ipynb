{
 "cells": [
  {
   "cell_type": "code",
   "execution_count": 1,
   "metadata": {
    "collapsed": true
   },
   "outputs": [],
   "source": [
    "from __future__ import absolute_import, division, print_function\n",
    "import codecs\n",
    "import glob\n",
    "import logging\n",
    "import multiprocessing\n",
    "import os\n",
    "import pprint\n",
    "import re\n",
    "import warnings\n",
    "warnings.filterwarnings(action='ignore', category=UserWarning, module='gensim')\n",
    "import nltk\n",
    "from gensim.models import Phrases\n",
    "import gensim.models.word2vec as w2v\n",
    "import sklearn.manifold\n",
    "import numpy as np\n",
    "import pandas as pnd\n",
    "import seaborn as sea\n",
    "import numpy as np\n",
    "from sklearn.manifold import TSNE\n",
    "import matplotlib.pyplot as plot\n",
    "%matplotlib notebook\n",
    "%matplotlib inline"
   ]
  },
  {
   "cell_type": "code",
   "execution_count": 2,
   "metadata": {},
   "outputs": [
    {
     "name": "stdout",
     "output_type": "stream",
     "text": [
      "Found:\n",
      "['C:/Users/Suraj/Desktop/CS584/Scripts/final_Programs/2011.txt']\n"
     ]
    }
   ],
   "source": [
    "#Enter the path where the text file with sentences split is located\n",
    "f_name = sorted(glob.glob(\"C:/Users/Suraj/Desktop/CS584/Scripts/final_Programs/2011.txt\"))\n",
    "print(\"Found:\")\n",
    "print(f_name)"
   ]
  },
  {
   "cell_type": "code",
   "execution_count": 3,
   "metadata": {},
   "outputs": [
    {
     "name": "stdout",
     "output_type": "stream",
     "text": [
      "direct-acting antivirals (daas) for treatment of chronic hepatitis c virus (hcv) infection can cause drug-drug interactions (ddis) with combination antiretroviral therapy (cart) and non-cart co-medication.\r\n",
      "\n"
     ]
    }
   ],
   "source": [
    "corpus=[]\n",
    "for each in f_name:\n",
    "    with codecs.open(each, \"r\", \"utf-8\") as file:\n",
    "        corpus+=file.readlines()\n",
    "print(corpus[0])"
   ]
  },
  {
   "cell_type": "code",
   "execution_count": 4,
   "metadata": {
    "collapsed": true
   },
   "outputs": [],
   "source": [
    "def sentence_to_word(word):\n",
    "    remove_unwanted_chars = re.sub(\"[^a-zA-Z]\",\" \", word)\n",
    "    final_word = remove_unwanted_chars.split()\n",
    "    return final_word"
   ]
  },
  {
   "cell_type": "code",
   "execution_count": 5,
   "metadata": {
    "collapsed": true
   },
   "outputs": [],
   "source": [
    "final_sentences = []\n",
    "for sentence in corpus:\n",
    "    if len(sentence) > 0:\n",
    "        final_sentences.append(sentence_to_word(sentence))\n"
   ]
  },
  {
   "cell_type": "code",
   "execution_count": 6,
   "metadata": {},
   "outputs": [
    {
     "name": "stdout",
     "output_type": "stream",
     "text": [
      "we mapped how physicians manage ddis between daas and co-medication and analysed treatment outcomes.\r\n",
      "\n",
      "['we', 'mapped', 'how', 'physicians', 'manage', 'ddis', 'between', 'daas', 'and', 'co', 'medication', 'and', 'analysed', 'treatment', 'outcomes']\n"
     ]
    }
   ],
   "source": [
    "print(corpus[1])\n",
    "print(sentence_to_word(corpus[1]))"
   ]
  },
  {
   "cell_type": "code",
   "execution_count": 7,
   "metadata": {},
   "outputs": [
    {
     "name": "stdout",
     "output_type": "stream",
     "text": [
      "The corpus contains 12,914,514 tokens\n"
     ]
    }
   ],
   "source": [
    "count_the_tokens = sum([len(sentence) for sentence in final_sentences])\n",
    "print(\"The corpus contains {0:,} tokens\".format(count_the_tokens))"
   ]
  },
  {
   "cell_type": "code",
   "execution_count": 8,
   "metadata": {
    "collapsed": true
   },
   "outputs": [],
   "source": [
    "#Converting split mulit words into single words. i.e. for example \"New\" \"York\" is converted to \"New_York\"\n",
    "bigram = Phrases(final_sentences, min_count=5, threshold=10)\n",
    "\n",
    "#Build a word2vec model for each time period files\n",
    "abs2vec2011_plus = w2v.Word2Vec(\n",
    "\tsg=1,                  #Using Skip-gram model\n",
    "    negative=10,           #Number of samples to compare negative sampling \n",
    "\talpha=0.005,           #Neural networds learning rate\n",
    "    seed=1,                #Seed for the RNG, to make the results reproducible.\n",
    "    workers=multiprocessing.cpu_count(),   # Number of threads to run in parallel.\n",
    "    size=200,              #N-dimensions of vector\n",
    "    min_count=5,           # Minimum word count threshold.\n",
    "    window=2,              # Context window length.\n",
    "    sample=1e-4            # Downsample setting for frequent words.\n",
    ")\n"
   ]
  },
  {
   "cell_type": "code",
   "execution_count": 9,
   "metadata": {},
   "outputs": [
    {
     "name": "stdout",
     "output_type": "stream",
     "text": [
      "Word2Vec vocabulary length: 57270\n"
     ]
    }
   ],
   "source": [
    "#Building the vocabulary\n",
    "abs2vec2011_plus.build_vocab(bigram[final_sentences])\n",
    "\n",
    "print(\"Word2Vec vocabulary length:\", len(abs2vec2011_plus.wv.vocab))"
   ]
  },
  {
   "cell_type": "code",
   "execution_count": 10,
   "metadata": {},
   "outputs": [
    {
     "data": {
      "text/plain": [
       "6466079"
      ]
     },
     "execution_count": 10,
     "metadata": {},
     "output_type": "execute_result"
    }
   ],
   "source": [
    "#Training the word2vec model\n",
    "abs2vec2011_plus.train(bigram[final_sentences], total_examples=abs2vec2011_plus.corpus_count, epochs=abs2vec2011_plus.iter)"
   ]
  },
  {
   "cell_type": "code",
   "execution_count": 11,
   "metadata": {
    "collapsed": true
   },
   "outputs": [],
   "source": [
    "#Save the trained word2vec model in a directory\n",
    "if not os.path.exists(\"model_saved\"):\n",
    "    os.makedirs(\"model_saved\")\n",
    "abs2vec2011_plus.save(os.path.join(\"model_saved\", \"abs2vec2011_plus.w2v\"))"
   ]
  },
  {
   "cell_type": "code",
   "execution_count": 2,
   "metadata": {
    "collapsed": true
   },
   "outputs": [],
   "source": [
    "#Load the model to do analysis\n",
    "abs2vec2011_plus = w2v.Word2Vec.load(os.path.join(\"model_saved\", \"abs2vec2011_plus.w2v\"))"
   ]
  },
  {
   "cell_type": "code",
   "execution_count": 13,
   "metadata": {},
   "outputs": [
    {
     "name": "stdout",
     "output_type": "stream",
     "text": [
      "[('infection', 0.9705164432525635), ('chronic', 0.9704685211181641), ('hsv', 0.9702824950218201), ('acute', 0.9663132429122925), ('progression', 0.9651920795440674), ('co_infection', 0.9651883244514465), ('herpes_simplex', 0.965083122253418), ('coinfection', 0.9647707343101501), ('tuberculosis', 0.9621977806091309), ('acquired_immunodeficiency', 0.9620643854141235)]\n"
     ]
    }
   ],
   "source": [
    "#Get the most similar values to a word of choice\n",
    "print(abs2vec2011_plus.most_similar(\"hiv\"))\n"
   ]
  },
  {
   "cell_type": "code",
   "execution_count": 4,
   "metadata": {},
   "outputs": [
    {
     "data": {
      "image/png": "[encoded data removed]",
      "text/plain": [
       "<matplotlib.figure.Figure at 0x22139f62160>"
      ]
     },
     "metadata": {},
     "output_type": "display_data"
    }
   ],
   "source": [
    "#Selecting the words similar to the given word and plotting the points after dimensionality reduction using t-SNE. \n",
    "model=abs2vec2011_plus\n",
    "word='haart'\n",
    "plot_title='Closest words to \"haart\" for year 2011 and above'\n",
    "arr = np.empty((0,200), dtype='f')\n",
    "label_words = [word]\n",
    "\n",
    "# get close words\n",
    "similar_words = model.similar_by_word(word)\n",
    "    \n",
    "# add the vector for each of the closest words to the array\n",
    "arr = np.append(arr, np.array([model[word]]), axis=0)\n",
    "for word_value in similar_words:\n",
    "    word_vector = model[word_value[0]]\n",
    "    label_words.append(word_value[0])\n",
    "    arr = np.append(arr, np.array([word_vector]), axis=0)\n",
    "       \n",
    "# find tsne coords for 2 dimensions\n",
    "tsne = TSNE(n_components=2, random_state=0)\n",
    "np.set_printoptions(suppress=True)\n",
    "X = tsne.fit_transform(arr)\n",
    "\n",
    "x_axis = X[:, 0]\n",
    "y_axis = X[:, 1]\n",
    "# display scatter plot\n",
    "plot.scatter(x_axis, y_axis)\n",
    "\n",
    "for label, x, y in zip(label_words, x_axis, y_axis):\n",
    "        plot.annotate(label, xy=(x, y), xytext=(0, 0), textcoords='offset points')\n",
    "plot.xlim(x_axis.min()+0.00005, x_axis.max()+0.00005)\n",
    "plot.ylim(y_axis.min()+0.00005, y_axis.max()+0.00005)\n",
    "plot.title(plot_title)\n",
    "plot.show()\n"
   ]
  },
  {
   "cell_type": "code",
   "execution_count": null,
   "metadata": {},
   "outputs": [],
   "source": []
  },
  {
   "cell_type": "code",
   "execution_count": null,
   "metadata": {
    "collapsed": true
   },
   "outputs": [],
   "source": []
  }
 ],
 "metadata": {
  "kernelspec": {
   "display_name": "Python 3",
   "language": "python",
   "name": "python3"
  },
  "language_info": {
   "codemirror_mode": {
    "name": "ipython",
    "version": 3
   },
   "file_extension": ".py",
   "mimetype": "text/x-python",
   "name": "python",
   "nbconvert_exporter": "python",
   "pygments_lexer": "ipython3",
   "version": "3.6.3"
  }
 },
 "nbformat": 4,
 "nbformat_minor": 2
}
